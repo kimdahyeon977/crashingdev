{
  "nbformat": 4,
  "nbformat_minor": 0,
  "metadata": {
    "colab": {
      "name": "Untitled19.ipynb",
      "private_outputs": true,
      "provenance": [],
      "collapsed_sections": [],
      "include_colab_link": true
    },
    "kernelspec": {
      "name": "python3",
      "display_name": "Python 3"
    },
    "language_info": {
      "name": "python"
    },
    "gpuClass": "standard"
  },
  "cells": [
    {
      "cell_type": "markdown",
      "metadata": {
        "id": "view-in-github",
        "colab_type": "text"
      },
      "source": [
        "<a href=\"https://colab.research.google.com/github/kimdahyeon977/crashingdev/blob/master/EDA.ipynb\" target=\"_parent\"><img src=\"https://colab.research.google.com/assets/colab-badge.svg\" alt=\"Open In Colab\"/></a>"
      ]
    },
    {
      "cell_type": "code",
      "source": [
        "from google.colab import drive\n",
        "drive.mount('/content/drive')"
      ],
      "metadata": {
        "id": "Oh1L0Au7XrGK"
      },
      "execution_count": null,
      "outputs": []
    },
    {
      "cell_type": "code",
      "execution_count": null,
      "metadata": {
        "id": "e_O0FX9th0QB"
      },
      "outputs": [],
      "source": [
        "#!pip install mpl_toolkits\n",
        "!pip install pingouin\n",
        "!pip install missingno --quiet\n",
        "!pip install folium\n",
        "!pip install pycountry_convert\n",
        "!pip install geocoder\n",
        "!pip install plotly\n",
        "!pip install pycountry_convert --quiet\n",
        "!pip install plotly_express\n",
        "!pip install plotly --quiet\n",
        "\n"
      ]
    },
    {
      "cell_type": "code",
      "source": [
        "#from mpl_toolkits.basemap import Basemap\n",
        "import pandas as pd\n",
        "import numpy as np\n",
        "from scipy.stats import norm\n",
        "import matplotlib.pyplot as plt\n",
        "import seaborn as sns\n",
        "import plotly_express as px\n",
        "import pycountry\n",
        "from collections import Counter\n",
        "\n",
        "%matplotlib inline\n",
        "plt.style.use('fivethirtyeight')\n",
        "\n",
        "import pycountry_convert as pc\n",
        "import warnings\n",
        "warnings.filterwarnings('ignore')\n",
        "\n",
        "import missingno as msno\n",
        "\n",
        "# Seaborn Style\n",
        "sns.set(color_codes = True)\n",
        "sns.set_style(\"white\")"
      ],
      "metadata": {
        "id": "NLy8FEkoiar1"
      },
      "execution_count": null,
      "outputs": []
    },
    {
      "cell_type": "code",
      "source": [
        "df = pd.read_csv('/content/drive/Shareddrives/elice/2022_google_csv.csv')\n",
        "df.head()"
      ],
      "metadata": {
        "id": "pIg-uZAfh_MX"
      },
      "execution_count": null,
      "outputs": []
    },
    {
      "cell_type": "markdown",
      "source": [
        "#데이터 전처리"
      ],
      "metadata": {
        "id": "Uypxj0LSxmAa"
      }
    },
    {
      "cell_type": "code",
      "source": [
        "df = df.dropna(axis=1)"
      ],
      "metadata": {
        "id": "LIf3iDn3ojO6"
      },
      "execution_count": null,
      "outputs": []
    },
    {
      "cell_type": "code",
      "source": [
        "df.shape"
      ],
      "metadata": {
        "id": "pDuYmo0xoQSn"
      },
      "execution_count": null,
      "outputs": []
    },
    {
      "cell_type": "code",
      "source": [
        "# Let's inspect the missing values 🐢\n",
        "data_info= pd.DataFrame()\n",
        "data_info['Column Names']= df.columns\n",
        "data_info['Datatype'] = df.dtypes.to_list()\n",
        "data_info['num_NA']= data_info['Column Names'].apply(lambda x: df[x].isna().sum())\n",
        "data_info['%_NA']= data_info['Column Names'].apply(lambda x: df[x].isna().mean())\n",
        "data_info"
      ],
      "metadata": {
        "id": "pkovtxqYoxtN"
      },
      "execution_count": null,
      "outputs": []
    },
    {
      "cell_type": "code",
      "source": [
        "df.describe()"
      ],
      "metadata": {
        "id": "bAjH03Qfv9Cs"
      },
      "execution_count": null,
      "outputs": []
    },
    {
      "cell_type": "code",
      "source": [
        "#이상치 제거 함수를 불러온다.\n",
        "def detect_outliers(df, n, features):\n",
        "    outlier_indices = []\n",
        "    for col in features:\n",
        "        Q1 = np.percentile(df[col], 25)\n",
        "        Q3 = np.percentile(df[col], 75)\n",
        "        IQR = Q3 - Q1\n",
        "        \n",
        "        outlier_step = 1.5 * IQR\n",
        "        \n",
        "        outlier_list_col = df[(df[col] < Q1 - outlier_step) | (df[col] > Q3 + outlier_step)].index\n",
        "        outlier_indices.extend(outlier_list_col) #outlier_inidices: 이상치가 발견된 행\n",
        "    outlier_indices = Counter(outlier_indices) #행의 빈도수를 세준다.\n",
        "    print(outlier_indices)\n",
        "    multiple_outliers = list(k for k, v in outlier_indices.items() if v > n) #이상치가 2개 이상 발견되면 return 해줌\n",
        "    return multiple_outliers"
      ],
      "metadata": {
        "id": "S5EuZhuoxRNA"
      },
      "execution_count": null,
      "outputs": []
    },
    {
      "cell_type": "code",
      "source": [
        "col=[i for i in df.columns]\n",
        "Outliers_to_drop = detect_outliers(df, 2,['Happiness score',\n",
        " 'Dystopia (1.83) + residual',\n",
        " 'Explained by: GDP per capita',\n",
        " 'Explained by: Social support',\n",
        " 'Explained by: Healthy life expectancy',\n",
        " 'Explained by: Freedom to make life choices',\n",
        " 'Explained by: Generosity',\n",
        " 'Explained by: Perceptions of corruption'])"
      ],
      "metadata": {
        "id": "jROhEVNyxejs"
      },
      "execution_count": null,
      "outputs": []
    },
    {
      "cell_type": "code",
      "source": [
        "df.loc[Outliers_to_drop]\n",
        "\n",
        "# 이상치가 발견된 행을 확인합니다."
      ],
      "metadata": {
        "id": "CKSI9hj_yRGH"
      },
      "execution_count": null,
      "outputs": []
    },
    {
      "cell_type": "code",
      "source": [
        "df = df.drop(Outliers_to_drop, axis = 0).reset_index(drop=True)\n",
        "df.shape"
      ],
      "metadata": {
        "id": "sDp5l2B60Ic3"
      },
      "execution_count": null,
      "outputs": []
    },
    {
      "cell_type": "code",
      "source": [
        "msno.matrix(df,color=(0.3, 0.5, 0.8))\n",
        "plt.show()"
      ],
      "metadata": {
        "id": "BF48NIMpoznW"
      },
      "execution_count": null,
      "outputs": []
    },
    {
      "cell_type": "code",
      "source": [
        "# Let's inspect if there are any duplicate values 💣\n",
        "data_info= pd.DataFrame()\n",
        "data_info['Column Names']= df.columns\n",
        "data_info['Datatype'] = df.dtypes.to_list()\n",
        "data_info['Duplicate']= data_info['Column Names'].apply(lambda x: df[x].duplicated().sum())\n",
        "data_info\n",
        "\n",
        "#country는 하나도 안겹친다."
      ],
      "metadata": {
        "id": "6mouirUko1ns"
      },
      "execution_count": null,
      "outputs": []
    },
    {
      "cell_type": "code",
      "source": [
        "df[\"Country\"] = df[\"Country\"].str.replace(\"*\",\"\")\n",
        "# Now, data is clean 🐠"
      ],
      "metadata": {
        "id": "MvymKzFco3ag"
      },
      "execution_count": null,
      "outputs": []
    },
    {
      "cell_type": "code",
      "source": [
        "df[\"Country\"].replace(\"Palestinian Territories\",\"Palestine\",inplace = True)\n",
        "df[\"Country\"].replace(\"Hong Kong S.A.R. of China\",\"Hong Kong\",inplace = True)\n",
        "df[\"Country\"].replace(\"Russia\",\"Russian Federation\",inplace = True)\n",
        "df[\"Country\"].replace(\"Taiwan Province of China\",\"Taiwan\",inplace = True)"
      ],
      "metadata": {
        "id": "6s9LJPIqo5ZX"
      },
      "execution_count": null,
      "outputs": []
    },
    {
      "cell_type": "code",
      "source": [
        "# Adding a column with country codes 🧭\n",
        "\n",
        "def countryCode (country_name):\n",
        "    try:\n",
        "        return pc.country_name_to_country_alpha2(country_name)\n",
        "    except:\n",
        "        return None                  # None keyword adds a null value 🐹\n",
        "\n",
        "if __name__ == \"__main__\":\n",
        "    df['Country code']= df.apply(lambda x: countryCode(x.Country), axis = 1)"
      ],
      "metadata": {
        "id": "xJr-nffWo7Yn"
      },
      "execution_count": null,
      "outputs": []
    },
    {
      "cell_type": "code",
      "source": [
        "# Adding a column with continent 🌡️\n",
        "def continent(country_code):\n",
        "    try:\n",
        "        return pc.country_alpha2_to_continent_code(country_code)\n",
        "    except:\n",
        "        return None                  # None keyword adds a null value 🐹\n",
        "    \n",
        "if __name__ == \"__main__\":\n",
        "    df['Continent']= df[\"Country code\"].apply(lambda x: continent(x))"
      ],
      "metadata": {
        "id": "pD3eCm0to8ha"
      },
      "execution_count": null,
      "outputs": []
    },
    {
      "cell_type": "code",
      "source": [
        "# Let's inspect the missing values 🐢\n",
        "data_info= pd.DataFrame()\n",
        "data_info['Column Names']= df.columns\n",
        "data_info['Datatype'] = df.dtypes.to_list()\n",
        "data_info['num_NA']= data_info['Column Names'].apply(lambda x: df[x].isna().sum())\n",
        "data_info['%_NA']= data_info['Column Names'].apply(lambda x: df[x].isna().mean())\n",
        "data_info"
      ],
      "metadata": {
        "id": "ef0xOLG8xCjw"
      },
      "execution_count": null,
      "outputs": []
    },
    {
      "cell_type": "code",
      "source": [
        "df.dropna(inplace = True)"
      ],
      "metadata": {
        "id": "HAmZh0Kvo-Ve"
      },
      "execution_count": null,
      "outputs": []
    },
    {
      "cell_type": "markdown",
      "source": [
        "###평균값과 비교"
      ],
      "metadata": {
        "id": "XzHoreY-Sx4J"
      }
    },
    {
      "cell_type": "code",
      "source": [
        "per=round(df[df['Country']==\"Egypt\"]['Happiness score'].values[0]/np.mean(df['Happiness score'])*100,3)\n",
        "if per<=100:\n",
        "    print(f'평균보다 {100-per}%가량 낮습니다.')\n",
        "elif per==100:\n",
        "    print(f'정확하게 평균이군요!')\n",
        "else:\n",
        "    print(f'평균보다 {100-per}%가량 높습니다.')"
      ],
      "metadata": {
        "id": "4rj-2DNcSqUa"
      },
      "execution_count": null,
      "outputs": []
    },
    {
      "cell_type": "markdown",
      "source": [
        "#EDA"
      ],
      "metadata": {
        "id": "yQQ_9KxY0cHE"
      }
    },
    {
      "cell_type": "markdown",
      "source": [
        "데이터들의 왜도와 척도보기"
      ],
      "metadata": {
        "id": "IshdAakd01WJ"
      }
    },
    {
      "cell_type": "code",
      "source": [
        "#피처들의 Skewness (비대칭도) 확인\n",
        "for col in [\n",
        " 'Dystopia (1.83) + residual',\n",
        " 'Explained by: GDP per capita',\n",
        " 'Explained by: Social support',\n",
        " 'Explained by: Healthy life expectancy',\n",
        " 'Explained by: Freedom to make life choices',\n",
        " 'Explained by: Generosity',\n",
        " 'Explained by: Perceptions of corruption']:\n",
        "    print('{:15}'.format(col), \n",
        "          'Skewness: {:05.2f}'.format(df[col].skew()) , \n",
        "          '   ' ,\n",
        "          'Kurtosis: {:06.2f}'.format(df[col].kurt())  \n",
        "         )\n",
        "    \n",
        "#딱히 문제 있어보이는 컬럼은 없음"
      ],
      "metadata": {
        "id": "oyoPs7lu06Qh"
      },
      "execution_count": null,
      "outputs": []
    },
    {
      "cell_type": "code",
      "source": [
        "#label의 Skewness (비대칭도) 확인\n",
        "f, ax = plt.subplots(1, 1, figsize = (10,6))\n",
        "g = sns.distplot(df[\"Happiness score\"], color = \"b\", label=\"Skewness: {:2f}\".format(df[\"Happiness score\"].skew()), ax=ax)\n",
        "g = g.legend(loc = \"best\")\n",
        "\n",
        "print(\"Skewness: %f\" % df[\"Happiness score\"].skew())\n",
        "print(\"Kurtosis: %f\" % df[\"Happiness score\"].kurt())\n",
        "\n",
        "# Target Feature인 Happiness score의 비대칭도와 첨도를 확인합니다. \n",
        "# 그래프와 수치를 확인하면 정상적으로 분포되지 않는것을 확인할 수 있습니다. \n",
        "# 예측의 정확도를 높히기 위해 로그 변환을 수행합니다.\n",
        "#왜도는 절댓값을 2를 안넘고 첨도는 절댓값을 7을 안넘으면 기준에 부합한다고 할 수 있다.\n",
        "#첨도가 너무 크면 이상치가 많다고 할 수 있다.\n",
        "\n",
        "#딱히 문제있어보이지 않는다 그냥 이대로 쓸것임"
      ],
      "metadata": {
        "id": "a4G9_FDJ8x1C"
      },
      "execution_count": null,
      "outputs": []
    },
    {
      "cell_type": "markdown",
      "source": [
        "#데이터 파이프라인"
      ],
      "metadata": {
        "id": "3iyIFBtD-zPd"
      }
    },
    {
      "cell_type": "code",
      "source": [
        "targets = ['Low', 'Low-Mid', 'Top-Mid', 'Top']\n",
        "def pipe(df):\n",
        "  df['target'] = pd.qcut(df[df.columns[2]],len(targets),labels=targets)\n",
        "  g_d=df.set_index('Country') #어차피 1행씩 밖에 없으므로 그냥 index를 country로 바꿔주기만한것\n",
        "  return g_d"
      ],
      "metadata": {
        "id": "UpP-Q1Gt6box"
      },
      "execution_count": null,
      "outputs": []
    },
    {
      "cell_type": "code",
      "source": [
        "df_t = pipe(df)\n",
        "df_t"
      ],
      "metadata": {
        "id": "oDMLxXva9-Tf"
      },
      "execution_count": null,
      "outputs": []
    },
    {
      "cell_type": "markdown",
      "source": [
        "###스피어만 상관계수\n",
        " 데이터에 순위만 매길 수 있다면 적용이 가능하므로 연속형Continuous 데이터에 적합한 피어슨 상관 계수와 달리 이산형Discrete 데이터, 순서형Ordinal 데이터에 적용이 가능하다. "
      ],
      "metadata": {
        "id": "Gkl9RI7yQwVv"
      }
    },
    {
      "cell_type": "code",
      "source": [
        "spearman_cormatrix= df.corr(method='spearman')\n",
        "spearman_cormatrix"
      ],
      "metadata": {
        "id": "SgpTvtAbQgSE"
      },
      "execution_count": null,
      "outputs": []
    },
    {
      "cell_type": "code",
      "source": [
        "fig, ax = plt.subplots(figsize=(14, 12))\n",
        "sns.heatmap(spearman_cormatrix,vmin=-1, vmax=1,center=0, cmap=plt.cm.PuBu, annot=True)"
      ],
      "metadata": {
        "id": "W8dALT3fTh8-"
      },
      "execution_count": null,
      "outputs": []
    },
    {
      "cell_type": "markdown",
      "source": [
        "(GDP , Social Support, life expectancy , Freedom)가 happiniess score와 연관이 깊다.\n",
        "\n",
        "다중공선성이 보이는 것들은 (GDP, life expectancy) / (GDP , social support)이다."
      ],
      "metadata": {
        "id": "X9Hvke8bVSxR"
      }
    },
    {
      "cell_type": "code",
      "source": [
        "sns.pairplot(df_t[[\n",
        " 'Dystopia (1.83) + residual',\n",
        " 'Explained by: GDP per capita',\n",
        " 'Explained by: Social support',\n",
        " 'Explained by: Healthy life expectancy',\n",
        " 'Explained by: Freedom to make life choices',\n",
        " 'Explained by: Generosity',\n",
        " 'Explained by: Perceptions of corruption','target']], hue='target')"
      ],
      "metadata": {
        "id": "M-6HEMQo0Ec8"
      },
      "execution_count": null,
      "outputs": []
    },
    {
      "cell_type": "markdown",
      "source": [
        "각 속성별로 TOP 10 국가들"
      ],
      "metadata": {
        "id": "3jOuw9yK25Ij"
      }
    },
    {
      "cell_type": "code",
      "source": [
        "fig, axes = plt.subplots(nrows=2, ncols=2,constrained_layout=True,figsize=(12,8))\n",
        "\n",
        "sns.barplot(x='Explained by: GDP per capita',y='Country',data=df.nlargest(10,'Explained by: GDP per capita'),ax=axes[0,0],palette=\"Blues_d\")\n",
        "\n",
        "sns.barplot(x='Explained by: Social support' ,y='Country',data=df.nlargest(10,'Explained by: Social support'),ax=axes[0,1],palette=\"YlGn\")\n",
        "\n",
        "sns.barplot(x='Explained by: Healthy life expectancy' ,y='Country',data=df.nlargest(10,'Explained by: Healthy life expectancy'),ax=axes[1,0],palette='OrRd')\n",
        "\n",
        "sns.barplot(x='Explained by: Freedom to make life choices' ,y='Country',data=df.nlargest(10,'Explained by: Freedom to make life choices'),ax=axes[1,1],palette='YlOrBr')"
      ],
      "metadata": {
        "id": "h6w5zAQ35lk_"
      },
      "execution_count": null,
      "outputs": []
    },
    {
      "cell_type": "code",
      "source": [
        "fig, axes = plt.subplots(nrows=1, ncols=2,constrained_layout=True,figsize=(10,4))\n",
        "\n",
        "sns.barplot(x='Explained by: Generosity' ,y='Country',data=df.nlargest(10,'Explained by: Generosity'),ax=axes[0],palette='Spectral')\n",
        "sns.barplot(x='Explained by: Perceptions of corruption' ,y='Country',data=df.nlargest(10,'Explained by: Perceptions of corruption'),ax=axes[1],palette='RdYlGn')"
      ],
      "metadata": {
        "id": "JtXqzCP26eTg"
      },
      "execution_count": null,
      "outputs": []
    },
    {
      "cell_type": "code",
      "source": [
        "# Data copy 🧲\n",
        "sample = df.copy()\n",
        "# Create a column with standard names of countries 🍄\n",
        "sample[\"StNames\"] = sample[\"Country\"].apply(lambda x : pc.country_name_to_country_alpha3(x))"
      ],
      "metadata": {
        "id": "hkDZYpxRpVDG"
      },
      "execution_count": null,
      "outputs": []
    },
    {
      "cell_type": "code",
      "source": [
        "sample.rename(columns={'Happiness score':'happinessScore','Dystopia (1.83) + residual':'dystopia','Explained by: GDP per capita':'gdp','Explained by: Social support':'socialSupport',\n",
        "                   'Explained by: Healthy life expectancy':'health','Explained by: Freedom to make life choices':'freedom','Explained by: Generosity':'generosity',\n",
        "                   'Explained by: Perceptions of corruption':'corruptionPerceptions','Country':'country','Continent':'continent'},inplace=True)"
      ],
      "metadata": {
        "id": "tAKMl-9l-MTZ"
      },
      "execution_count": null,
      "outputs": []
    },
    {
      "cell_type": "code",
      "source": [
        "sample.columns"
      ],
      "metadata": {
        "id": "IyzfYCaPCj-g"
      },
      "execution_count": null,
      "outputs": []
    },
    {
      "cell_type": "code",
      "source": [
        "sample['continent'].unique()"
      ],
      "metadata": {
        "id": "eCkUe2ytncVf"
      },
      "execution_count": null,
      "outputs": []
    },
    {
      "cell_type": "code",
      "source": [
        "sample['continent']=sample['continent'].replace('EU','Europe')\n",
        "sample['continent']=sample['continent'].replace('AS','Asia')\n",
        "sample['continent']=sample['continent'].replace('OC','Oceania')\n",
        "sample['continent']=sample['continent'].replace('NA','North America')\n",
        "sample['continent']=sample['continent'].replace('AF','Africa')\n",
        "sample['continent']"
      ],
      "metadata": {
        "id": "7jupJZuWnLS-"
      },
      "execution_count": null,
      "outputs": []
    },
    {
      "cell_type": "markdown",
      "source": [
        "전처리 한것을 내보내주기"
      ],
      "metadata": {
        "id": "qKfzJ6YvB_6W"
      }
    },
    {
      "cell_type": "code",
      "source": [
        "sample.to_csv(\"happy_data2.csv\",index=False)"
      ],
      "metadata": {
        "id": "A7GxFIuP-0Mm"
      },
      "execution_count": null,
      "outputs": []
    },
    {
      "cell_type": "code",
      "source": [
        "# World Map for Happiness Ranking 🦞\n",
        "fig = px.choropleth(sample, locations = \"StNames\", color = \"RANK\",\n",
        "                    scope = 'world', title = \"Happiness Ranking World Map\", color_continuous_scale= \"viridis\")\n",
        "\n",
        "# A data frame with top 20 values 🌐\n",
        "data = df.head(20)\n",
        "\n",
        "# Barplot for top 20 countries Happiness Index\n",
        "plt.figure(figsize=(28,5))\n",
        "plt.title(\"Top 20 Countries on Happiness Ranking\")\n",
        "sns.barplot(x = data[\"Country\"], y = data[\"Happiness score\"], data = data, palette='viridis', edgecolor='black')\n",
        "\n",
        "\n",
        "fig.show()\n",
        "plt.show()"
      ],
      "metadata": {
        "id": "HfOeX1IupW8T"
      },
      "execution_count": null,
      "outputs": []
    },
    {
      "cell_type": "code",
      "source": [
        "# Asia Map for Happiness Ranking 🦂 \n",
        "fig = px.choropleth(sample, locations = \"StNames\", color = \"RANK\",\n",
        "                    scope = 'asia', title = \"Asia Happiness Ranking Map\", color_continuous_scale= \"magma\")\n",
        "\n",
        "# Barplot for top 10 Asian countries on Happiness Index\n",
        "data = df[df[\"Continent\"] == \"AS\"].head(10)\n",
        "\n",
        "plt.figure(figsize=(28,5))\n",
        "plt.title(\"Top 10 Asian Countries Happiness Ranking\")\n",
        "sns.barplot(x = data[\"Country\"], y = data[\"Happiness score\"], data = data, palette='magma', edgecolor='black')\n",
        "\n",
        "fig.show()\n",
        "plt.show()"
      ],
      "metadata": {
        "id": "3Ew0yvzQplkp"
      },
      "execution_count": null,
      "outputs": []
    },
    {
      "cell_type": "code",
      "source": [
        "# Europian Map for Happiness Ranking 🦂 \n",
        "fig = px.choropleth(sample, locations = \"StNames\", color = \"RANK\",\n",
        "                    scope = 'europe', title = \"Europian Happiness Ranking Map\", color_continuous_scale= \"viridis\")\n",
        "\n",
        "# Barplot for top 10 Europian countries on Happiness Index\n",
        "data = df[df[\"Continent\"] == \"EU\"].head(10)\n",
        "\n",
        "plt.figure(figsize=(28,5))\n",
        "plt.title(\"Top 10 Europian Countries Happiness Ranking\")\n",
        "sns.barplot(x = data[\"Country\"], y = data[\"Happiness score\"], data = data, palette='viridis', edgecolor='black')\n",
        "\n",
        "fig.show()\n",
        "plt.show()"
      ],
      "metadata": {
        "id": "A8XGm1mGpnuV"
      },
      "execution_count": null,
      "outputs": []
    },
    {
      "cell_type": "code",
      "source": [
        "# Africa Map for Happiness Ranking 🦂 \n",
        "fig = px.choropleth(sample, locations = \"StNames\", color = \"RANK\",\n",
        "                    scope = 'africa', title = \"African Happiness Ranking Map\", color_continuous_scale= \"magma\")\n",
        "\n",
        "\n",
        "# Barplot for top 10 Europian countries on Happiness Index\n",
        "data = df[df[\"Continent\"] == \"AF\"].head(10)\n",
        "\n",
        "plt.figure(figsize=(28,5))\n",
        "plt.title(\"Top 10 African Countries Happiness Ranking\")\n",
        "sns.barplot(x = data[\"Country\"], y = data[\"Happiness score\"], data = data, palette='magma', edgecolor='black')\n",
        "\n",
        "fig.show()\n",
        "plt.show()"
      ],
      "metadata": {
        "id": "46--3ctxpqUN"
      },
      "execution_count": null,
      "outputs": []
    },
    {
      "cell_type": "code",
      "source": [
        "# North American Map for Happiness Ranking 🦂 \n",
        "fig = px.choropleth(sample, locations = \"StNames\", color = \"RANK\",\n",
        "                    scope = 'north america', title = \"North American Happiness Ranking Map\", color_continuous_scale= \"viridis\")\n",
        "\n",
        "\n",
        "# Barplot for top 10 Europian countries on Happiness Index\n",
        "data = df[df[\"Continent\"] == \"NA\"].head(10)\n",
        "\n",
        "plt.figure(figsize=(28,5))\n",
        "plt.title(\"Top 10 North American Countries Happiness Ranking\")\n",
        "sns.barplot(x = data[\"Country\"], y = data[\"Happiness score\"], data = data, palette='viridis', edgecolor='black')\n",
        "\n",
        "fig.show()\n",
        "plt.show()"
      ],
      "metadata": {
        "id": "TVxDA59EpseM"
      },
      "execution_count": null,
      "outputs": []
    },
    {
      "cell_type": "code",
      "source": [
        "# South American Map for Happiness Ranking 🦂 \n",
        "fig = px.choropleth(sample, locations = \"StNames\", color = \"RANK\",\n",
        "                    scope = 'south america', title = \"South American Happiness Ranking Map\", color_continuous_scale= \"magma\")\n",
        "\n",
        "\n",
        "# Barplot for top 10 Europian countries on Happiness Index\n",
        "data = df[df[\"Continent\"] == \"SA\"].head(10)\n",
        "\n",
        "plt.figure(figsize=(28,5))\n",
        "plt.title(\"Top 10 South American Countries Happiness Ranking\")\n",
        "sns.barplot(x = data[\"Country\"], y = data[\"Happiness score\"], data = data, palette='magma', edgecolor='black')\n",
        "\n",
        "fig.show()\n",
        "plt.show()"
      ],
      "metadata": {
        "id": "jUT-SzmTpuY8"
      },
      "execution_count": null,
      "outputs": []
    },
    {
      "cell_type": "code",
      "source": [
        "data = df[df[\"Continent\"] == \"OC\"].head(10)\n",
        "\n",
        "plt.figure(figsize=(28,5))\n",
        "plt.title(\"Top 10 South American Countries Happiness Ranking\")\n",
        "sns.barplot(x = data[\"Country\"], y = data[\"Happiness score\"]*10000, data = data, palette='magma', edgecolor='black')\n",
        "\n",
        "plt.show()"
      ],
      "metadata": {
        "id": "ULJdp9sg48lU"
      },
      "execution_count": null,
      "outputs": []
    },
    {
      "cell_type": "markdown",
      "source": [
        "## 대륙별로 grouping하기"
      ],
      "metadata": {
        "id": "36wTe0xr-vDx"
      }
    },
    {
      "cell_type": "code",
      "source": [
        "# Grouping data on basis of continents 🐾\n",
        "contData = df.groupby(\"Continent\")"
      ],
      "metadata": {
        "id": "kXmOriU9pxEa"
      },
      "execution_count": null,
      "outputs": []
    },
    {
      "cell_type": "code",
      "source": [
        "# Average Happiness Score per Continent 🦨\n",
        "happAvg = contData[\"Happiness score\"].mean()\n",
        "pd.DataFrame(happAvg)"
      ],
      "metadata": {
        "id": "_xxqewOVpyK7"
      },
      "execution_count": null,
      "outputs": []
    },
    {
      "cell_type": "code",
      "source": [
        "plt.title(\"Average Happiness Score\", fontdict={'fontsize':15})\n",
        "plt.ylabel(\"Happiness Score\")\n",
        "sns.barplot(x = happAvg.index, y = happAvg.values, palette = \"viridis\")\n",
        "plt.show()"
      ],
      "metadata": {
        "id": "_ob9tctYpzf4"
      },
      "execution_count": null,
      "outputs": []
    },
    {
      "cell_type": "markdown",
      "source": [
        "####겉보기에 대륙별로 차이가 난다.과연 대륙이 행복도에 영향을 줄까?\n",
        "\n",
        "####H0 : 대륙별로 행복도 차이가 나지 않는다.\n",
        "####H1 : 대륙별로 행복도 차이가 난다."
      ],
      "metadata": {
        "id": "a5I-BRxmqNOe"
      }
    },
    {
      "cell_type": "code",
      "source": [
        "sample.columns"
      ],
      "metadata": {
        "id": "xejhua8vrF1N"
      },
      "execution_count": null,
      "outputs": []
    },
    {
      "cell_type": "code",
      "source": [
        "import pingouin as pg\n",
        "aov = pg.anova(data=sample, dv='happinessScore', between='country', detailed=False)\n",
        "aov\n",
        "#아주 유의한 차이를 주는 것을 알 수 있다."
      ],
      "metadata": {
        "id": "DSZ5Ofn1qUPU"
      },
      "execution_count": null,
      "outputs": []
    },
    {
      "cell_type": "code",
      "source": [
        ""
      ],
      "metadata": {
        "id": "kpv-RfCLrRae"
      },
      "execution_count": null,
      "outputs": []
    },
    {
      "cell_type": "code",
      "source": [
        "pip install squarify"
      ],
      "metadata": {
        "id": "UEyB01tg8-Nt"
      },
      "execution_count": null,
      "outputs": []
    },
    {
      "cell_type": "code",
      "source": [
        "import squarify # pip install squarify\n",
        "sizes=happAvg.values\n",
        "label=happAvg.index\n",
        "color=['#3300CC','#3366FF','#339999','#336633','#33CCFF','#CCFFCC']\n",
        "squarify.plot(sizes=sizes,label=label,alpha=0.6,color=color)\n",
        "plt.axis('off')\n",
        "plt.show()"
      ],
      "metadata": {
        "id": "ljiUc30L6wkT"
      },
      "execution_count": null,
      "outputs": []
    },
    {
      "cell_type": "markdown",
      "source": [
        "##한 나라 집중적으로 시각화하기"
      ],
      "metadata": {
        "id": "wtae00gl-Lb3"
      }
    },
    {
      "cell_type": "code",
      "source": [
        "df.columns"
      ],
      "metadata": {
        "id": "kngEsVpKEekP"
      },
      "execution_count": null,
      "outputs": []
    },
    {
      "cell_type": "code",
      "source": [
        "labels=df[df['Country code']=='VE'][['Dystopia (1.83) + residual','Explained by: GDP per capita','Explained by: Social support', 'Explained by: Healthy life expectancy','Explained by: Freedom to make life choices','Explained by: Generosity','Explained by: Perceptions of corruption']].columns\n",
        "frequency=df[df['Country code']=='VE'][['Dystopia (1.83) + residual','Explained by: GDP per capita','Explained by: Social support', 'Explained by: Healthy life expectancy','Explained by: Freedom to make life choices','Explained by: Generosity','Explained by: Perceptions of corruption']]\n",
        "plt.pie(frequency, labels=labels, autopct='%.1f%%')\n",
        "plt.show()"
      ],
      "metadata": {
        "id": "zk4cYth5-QMQ"
      },
      "execution_count": null,
      "outputs": []
    },
    {
      "cell_type": "markdown",
      "source": [
        "---------------------------------------"
      ],
      "metadata": {
        "id": "bAKkQbYNpVoF"
      }
    },
    {
      "cell_type": "code",
      "source": [
        "plt.subplots(2,1,figsize=(12,14))\n",
        "plt.subplot(211)\n",
        "x = df.sort_values('Happiness score', ascending=True).tail(10)\n",
        "plt.barh(y='Country', width='Happiness score', data=x, color='deepskyblue')\n",
        "plt.xlim(xmin=7.0, xmax=7.8)\n",
        "plt.title('10 Countries with the Highest Happiness -2022')\n",
        "plt.subplot(212)\n",
        "x = df.sort_values('Happiness score', ascending=False).tail(10)\n",
        "plt.barh(y='Country', width='Happiness score', data=x, color='violet')\n",
        "plt.xlim(xmin=2.8, xmax=4.0)\n",
        "plt.title('10 Countries with the Lowest Happiness -2022')\n",
        "plt.show()"
      ],
      "metadata": {
        "id": "KXjmgeXsiLc7"
      },
      "execution_count": null,
      "outputs": []
    },
    {
      "cell_type": "markdown",
      "source": [
        "#HIERARCHICAL CLUSTERING "
      ],
      "metadata": {
        "id": "9DFFD0sq--sw"
      }
    },
    {
      "cell_type": "markdown",
      "source": [
        "그러나 계층적 군집을 적용하기 전에 각 변수의 크기가 동일하도록 데이터를 정규화해야 합니다. 왜 이것이 중요할까요? 변수의 크기가 같지 않으면 모형이 더 큰 크기의 변수에 치우칠 수 있습니다."
      ],
      "metadata": {
        "id": "9S11hE8MOwpy"
      }
    },
    {
      "cell_type": "code",
      "source": [
        "nums=['Happiness score','Dystopia (1.83) + residual','Explained by: GDP per capita','Explained by: Social support','Explained by: Healthy life expectancy','Explained by: Freedom to make life choices','Explained by: Generosity','Explained by: Perceptions of corruption']\n",
        "from sklearn.preprocessing import normalize\n",
        "data_scaled = normalize(df[nums])\n",
        "data_scaled = pd.DataFrame(data_scaled, columns=nums)\n",
        "datasc=data_scaled.copy()\n",
        "data_scaled.head()"
      ],
      "metadata": {
        "id": "zfajK6YE-Bz8"
      },
      "execution_count": null,
      "outputs": []
    },
    {
      "cell_type": "code",
      "source": [
        "df.drop(columns=nums, inplace=True)"
      ],
      "metadata": {
        "id": "J-mnLAcYA8Dq"
      },
      "execution_count": null,
      "outputs": []
    },
    {
      "cell_type": "markdown",
      "source": [
        "덴드로그램을 그려보자"
      ],
      "metadata": {
        "id": "R-slAmt_JfVD"
      }
    },
    {
      "cell_type": "code",
      "source": [
        "import scipy.cluster.hierarchy as shc\n",
        "plt.figure(figsize=(10, 7))  \n",
        "plt.title(\"Dendrograms\")  \n",
        "dend = shc.dendrogram(shc.linkage(data_scaled, method='ward'))\n",
        "plt.axhline(y=0.23, color='r', linestyle='--')\n"
      ],
      "metadata": {
        "id": "uKsxJN77JzN9"
      },
      "execution_count": null,
      "outputs": []
    },
    {
      "cell_type": "code",
      "source": [
        "from sklearn.cluster import AgglomerativeClustering\n",
        "cluster = AgglomerativeClustering(n_clusters=18, affinity='euclidean', linkage='ward')  \n",
        "data_scaled['group']=list(cluster.fit_predict(data_scaled))"
      ],
      "metadata": {
        "id": "IMiOxXx4N8Ny"
      },
      "execution_count": null,
      "outputs": []
    },
    {
      "cell_type": "code",
      "source": [
        "data_scaled.groupby('group').size()"
      ],
      "metadata": {
        "id": "kHE7U6Lmp_lw"
      },
      "execution_count": null,
      "outputs": []
    },
    {
      "cell_type": "code",
      "source": [
        "#각 그룹별 빈도\n",
        "plt.subplot(211)\n",
        "sns.countplot(data = data_scaled ,x='group')\n",
        "plt.show()"
      ],
      "metadata": {
        "id": "RFTFCHrmdZxk"
      },
      "execution_count": null,
      "outputs": []
    },
    {
      "cell_type": "markdown",
      "source": [
        "군집별로 grouping하기"
      ],
      "metadata": {
        "id": "6-XNtjPThg3A"
      }
    },
    {
      "cell_type": "code",
      "source": [
        "# Grouping data on basis of groups 🐾\n",
        "contData = data_scaled.groupby(\"group\")"
      ],
      "metadata": {
        "id": "m-PkR0Xuns-U"
      },
      "execution_count": null,
      "outputs": []
    },
    {
      "cell_type": "code",
      "source": [
        "col=['Happiness score','Dystopia (1.83) + residual','Explained by: GDP per capita','Explained by: Social support','Explained by: Healthy life expectancy','Explained by: Freedom to make life choices','Explained by: Generosity','Explained by: Perceptions of corruption']\n",
        "for i in col:\n",
        "  plt.title(f'Average {i}', fontdict={'fontsize':15})\n",
        "  plt.ylabel(f'{i}')\n",
        "  sns.barplot(x = contData[i].mean().index, y = sorted(contData[i].mean(i).values,reverse=True), palette = \"viridis\")\n",
        "  plt.show()"
      ],
      "metadata": {
        "id": "IrCoIqRtoGDx"
      },
      "execution_count": null,
      "outputs": []
    },
    {
      "cell_type": "code",
      "source": [
        "df=pd.concat([data_scaled, df],axis=1)"
      ],
      "metadata": {
        "id": "k2tfWV-PiGOw"
      },
      "execution_count": null,
      "outputs": []
    },
    {
      "cell_type": "code",
      "source": [
        "for j in range(0,18):\n",
        "  print(f'what is group {j} include?')\n",
        "  print(df[df['group']==j]['Country'].values)\n",
        "  print(\"=\"*30)"
      ],
      "metadata": {
        "id": "z11ZFPTYqjJC"
      },
      "execution_count": null,
      "outputs": []
    },
    {
      "cell_type": "markdown",
      "source": [
        "https://brunch.co.kr/@wikiviki/325\n",
        "\n",
        "의미없는 결과...."
      ],
      "metadata": {
        "id": "7h7jJQI79EDN"
      }
    },
    {
      "cell_type": "markdown",
      "source": [
        "#년도별 데이터셋을 추가해서 년도별로 어떻게 변하나 보기"
      ],
      "metadata": {
        "id": "jModVpsQKG5U"
      }
    },
    {
      "cell_type": "code",
      "source": [
        "war=pd.read_csv('/content/drive/Shareddrives/elice/war.csv')\n",
        "war\n",
        "df2015 = pd.read_csv('/content/drive/Shareddrives/elice/2015.csv')\n",
        "df2016 = pd.read_csv('/content/drive/Shareddrives/elice/2016.csv')\n",
        "df2017 = pd.read_csv('/content/drive/Shareddrives/elice/2017.csv')\n",
        "df2018 = pd.read_csv('/content/drive/Shareddrives/elice/2018.csv')\n",
        "df2019 = pd.read_csv('/content/drive/Shareddrives/elice/2019.csv')\n",
        "df2020 = pd.read_csv('/content/drive/Shareddrives/elice/2020.csv')\n",
        "df2021 = pd.read_csv('/content/drive/Shareddrives/elice/2021.csv')\n",
        "df2022 = pd.read_csv('/content/drive/Shareddrives/elice/2022_google_csv.csv')"
      ],
      "metadata": {
        "id": "GTieFaqb8INL"
      },
      "execution_count": null,
      "outputs": []
    },
    {
      "cell_type": "code",
      "source": [
        "#Add year column\n",
        "yrs = ['2015', '2016', '2017', '2018', '2019', '2020', '2021', '2022']\n",
        "dfs = [df2015, df2016, df2017, df2018, df2019, df2020, df2021, df2022]\n",
        "for i in range(0,8):\n",
        "    dfs[i]['Year'] = yrs[i]"
      ],
      "metadata": {
        "id": "ZNJmibPA-orw"
      },
      "execution_count": null,
      "outputs": []
    },
    {
      "cell_type": "code",
      "source": [
        "common_cols = ['Happiness Rank', 'Country', 'Region', 'Happiness Score', 'Economy (GDP per Capita)', 'Family (Social Support)','Health (Life Expectancy)','Freedom', 'Trust (Government Corruption)','Generosity','Year']"
      ],
      "metadata": {
        "id": "1JlYjJYuN-zX"
      },
      "execution_count": null,
      "outputs": []
    },
    {
      "cell_type": "code",
      "source": [
        "df2015 = df2015.rename(columns={'Family':'Family (Social Support)'})\n",
        "df2015.head(2)"
      ],
      "metadata": {
        "id": "WfPkeq9fJNRm"
      },
      "execution_count": null,
      "outputs": []
    },
    {
      "cell_type": "code",
      "source": [
        "df2016 = df2016.rename(columns={'Family':'Family (Social Support)'})"
      ],
      "metadata": {
        "id": "C5AQlmRAJNpz"
      },
      "execution_count": null,
      "outputs": []
    },
    {
      "cell_type": "code",
      "source": [
        "df2017 = df2017.rename(columns={'Happiness.Rank':'Happiness Rank', 'Happiness.Score':'Happiness Score','Economy..GDP.per.Capita.':'Economy (GDP per Capita)','Family':'Family (Social Support)','Health..Life.Expectancy.':'Health (Life Expectancy)','Trust..Government.Corruption.':'Trust (Government Corruption)'})"
      ],
      "metadata": {
        "id": "LNRasv1EJODn"
      },
      "execution_count": null,
      "outputs": []
    },
    {
      "cell_type": "code",
      "source": [
        "df2017 = df2017.merge(df2015[[\"Country\",\"Region\"]], on=\"Country\", how=\"left\")\n",
        "df2017[\"Region\"] = df2017[\"Region\"].fillna('-')\n",
        "df2017.head()"
      ],
      "metadata": {
        "id": "OqM_-KJeJOUp"
      },
      "execution_count": null,
      "outputs": []
    },
    {
      "cell_type": "code",
      "source": [
        "df2018 = df2018.rename(columns={'Overall rank':'Happiness Rank', 'Country or region':'Country', 'Score':'Happiness Score', 'GDP per capita':'Economy (GDP per Capita)','Social support':'Family (Social Support)','Healthy life expectancy':'Health (Life Expectancy)','Freedom to make life choices':'Freedom','Perceptions of corruption':'Trust (Government Corruption)'})"
      ],
      "metadata": {
        "id": "pj_mgFMQKKgZ"
      },
      "execution_count": null,
      "outputs": []
    },
    {
      "cell_type": "code",
      "source": [
        "df2018 = df2018.merge(df2015[[\"Country\",\"Region\"]], on=\"Country\", how=\"left\")\n",
        "df2018[\"Region\"] = df2018[\"Region\"].fillna('-')\n",
        "df2018.tail(2)"
      ],
      "metadata": {
        "id": "wiRtXXYgL_1L"
      },
      "execution_count": null,
      "outputs": []
    },
    {
      "cell_type": "code",
      "source": [
        "df2019 = df2019.rename(columns={'Overall rank':'Happiness Rank', 'Country or region':'Country', 'Score':'Happiness Score', 'GDP per capita':'Economy (GDP per Capita)','Social support':'Family (Social Support)','Healthy life expectancy':'Health (Life Expectancy)','Freedom to make life choices':'Freedom','Perceptions of corruption':'Trust (Government Corruption)'})"
      ],
      "metadata": {
        "id": "cTXkIhQ0MHoK"
      },
      "execution_count": null,
      "outputs": []
    },
    {
      "cell_type": "code",
      "source": [
        "df2019 = df2019.merge(df2015[[\"Country\",\"Region\"]], on=\"Country\", how=\"left\")\n",
        "df2019[\"Region\"] = df2019[\"Region\"].fillna('-')\n",
        "df2019.head(2)"
      ],
      "metadata": {
        "id": "IvFQhf4QMQLI"
      },
      "execution_count": null,
      "outputs": []
    },
    {
      "cell_type": "code",
      "source": [
        "df2020 = df2020.rename(columns={'Country name':'Country','Regional indicator': 'Region','Ladder score':'Happiness Score','Explained by: Social support':'Family (Social Support)','Explained by: Healthy life expectancy':'Health (Life Expectancy)','Explained by: Freedom to make life choices':'Freedom','Explained by: Perceptions of corruption':'Trust (Government Corruption)','Explained by: Log GDP per capita':'Economy (GDP per Capita)','Explained by: Generosity':'Generosity'})"
      ],
      "metadata": {
        "id": "PGQO9fT8McDV"
      },
      "execution_count": null,
      "outputs": []
    },
    {
      "cell_type": "code",
      "source": [
        "df2020['Happiness Rank'] = [i for i in range(1, len(df2020.index)+1)]"
      ],
      "metadata": {
        "id": "dCgoqvs4MiwV"
      },
      "execution_count": null,
      "outputs": []
    },
    {
      "cell_type": "code",
      "source": [
        "df2020 = df2020.loc[:,~df2020.columns.duplicated(keep='last')]\n",
        "df2020.head(2)"
      ],
      "metadata": {
        "id": "8WO7U1krMkL6"
      },
      "execution_count": null,
      "outputs": []
    },
    {
      "cell_type": "code",
      "source": [
        "df2021 = df2021.rename(columns={'Country name':'Country','Regional indicator': 'Region','Ladder score':'Happiness Score','Explained by: Social support':'Family (Social Support)','Explained by: Healthy life expectancy':'Health (Life Expectancy)','Explained by: Freedom to make life choices':'Freedom','Explained by: Perceptions of corruption':'Trust (Government Corruption)','Explained by: Log GDP per capita':'Economy (GDP per Capita)','Explained by: Generosity':'Generosity'})"
      ],
      "metadata": {
        "id": "9XwV1xmfNKF5"
      },
      "execution_count": null,
      "outputs": []
    },
    {
      "cell_type": "code",
      "source": [
        "df2021 = df2021.loc[:,~df2021.columns.duplicated(keep='last')]\n",
        "df2021['Happiness Rank'] = [i for i in range(1, len(df2021.index)+1)]\n",
        "df2021.head(2)"
      ],
      "metadata": {
        "id": "CxdrxzF4NMeO"
      },
      "execution_count": null,
      "outputs": []
    },
    {
      "cell_type": "code",
      "source": [
        "df2022 = df2022.merge(df2015[[\"Country\",\"Region\"]], on=\"Country\", how=\"right\")\n",
        "df2022[\"Region\"] = df2022[\"Region\"].fillna('-')\n",
        "df2022.head()"
      ],
      "metadata": {
        "id": "yKHGbPtUNXtA"
      },
      "execution_count": null,
      "outputs": []
    },
    {
      "cell_type": "code",
      "source": [
        "df2022 = df2022.rename(columns={'RANK':'Happiness Rank','Happiness score':'Happiness Score','Explained by: GDP per capita':'Economy (GDP per Capita)', 'Explained by: Social support':'Family (Social Support)','Explained by: Healthy life expectancy':'Health (Life Expectancy)','Explained by: Freedom to make life choices':'Freedom','Explained by: Generosity':'Generosity', 'Explained by: Perceptions of corruption':'Trust (Government Corruption)'})\n",
        "df2022.head(2)"
      ],
      "metadata": {
        "id": "1u4JjalnNn7c"
      },
      "execution_count": null,
      "outputs": []
    },
    {
      "cell_type": "code",
      "source": [
        "dfs = [df2015[common_cols], df2016[common_cols], df2017[common_cols], df2018[common_cols], df2019[common_cols], df2020[common_cols], df2021[common_cols], df2022[common_cols]]"
      ],
      "metadata": {
        "id": "AZyiZBa5NvKn"
      },
      "execution_count": null,
      "outputs": []
    },
    {
      "cell_type": "code",
      "source": [
        "df_merged = pd.DataFrame(columns=common_cols)"
      ],
      "metadata": {
        "id": "whWjmdoyOBwt"
      },
      "execution_count": null,
      "outputs": []
    },
    {
      "cell_type": "code",
      "source": [
        "df_merged = df_merged.append(dfs)"
      ],
      "metadata": {
        "id": "YOtARQ4lOIhV"
      },
      "execution_count": null,
      "outputs": []
    },
    {
      "cell_type": "code",
      "source": [
        "df_merged.shape"
      ],
      "metadata": {
        "id": "Ae429edvOLOg"
      },
      "execution_count": null,
      "outputs": []
    },
    {
      "cell_type": "code",
      "source": [
        "df_merged.dropna(axis='rows',inplace=True)"
      ],
      "metadata": {
        "id": "WKzULeo3OMd3"
      },
      "execution_count": null,
      "outputs": []
    },
    {
      "cell_type": "code",
      "source": [
        "df_merged.shape"
      ],
      "metadata": {
        "id": "MTZEOqoeOQ_c"
      },
      "execution_count": null,
      "outputs": []
    },
    {
      "cell_type": "code",
      "source": [
        "df_merged[\"Country\"].replace(\"Palestinian Territories\",\"Palestine\",inplace = True)\n",
        "df_merged[\"Country\"].replace(\"Hong Kong S.A.R. of China\",\"Hong Kong\",inplace = True)\n",
        "df_merged[\"Country\"].replace(\"Russia\",\"Russian Federation\",inplace = True)\n",
        "df_merged[\"Country\"].replace(\"Taiwan Province of China\",\"Taiwan\",inplace = True)\n",
        "df_merged[\"Country\"].replace(\"Congo (Brazzaville)\",\"Congo\",inplace = True)\n",
        "df_merged[\"Country\"].replace(\"Congo (Kinshasa)\",\"Congo\",inplace = True)\n",
        "df_merged[\"Country\"].replace(\"Hong Kong S.A.R., China\",\"Hong Kong\",inplace = True)"
      ],
      "metadata": {
        "id": "wjHJblkDTHWY"
      },
      "execution_count": null,
      "outputs": []
    },
    {
      "cell_type": "code",
      "source": [
        "yearAvg=df_merged.groupby('Year')[['Happiness Score','Family (Social Support)','Economy (GDP per Capita)','Health (Life Expectancy)']].mean()\n",
        "plt.title(\"Average Happiness Score per year\", fontdict={'fontsize':15})\n",
        "plt.ylabel(\"Happiness Score\")\n",
        "sns.barplot(x = yearAvg.index, y = yearAvg['Happiness Score'].values, palette = \"viridis\")\n",
        "sns.lineplot(x=yearAvg.index, y=yearAvg['Family (Social Support)'].values)\n",
        "plt.show()"
      ],
      "metadata": {
        "id": "SgFr5NjaO7CF"
      },
      "execution_count": null,
      "outputs": []
    },
    {
      "cell_type": "markdown",
      "source": [
        "####겉보기에 년도별로 차이가 나지 않아보인다.과연 년도가 행복도에 영향을 줄까?\n",
        "\n",
        "####H0 : 년도별로 행복도 차이가 나지 않는다.\n",
        "####H1 : 년도별로 행복도 차이가 난다."
      ],
      "metadata": {
        "id": "EUw6TaGWGD7M"
      }
    },
    {
      "cell_type": "code",
      "source": [
        "import pingouin as pg\n",
        "aov = pg.anova(data=df_merged, dv='Happiness Score', between='Year', detailed=False)\n",
        "aov\n",
        "#p-value > a 이므로 귀무가설 채택할 만한 충분한 근거가 있음. 따라서 차이가 나지 않는다고 할 수 있다."
      ],
      "metadata": {
        "id": "zPrU4ijvGPOP"
      },
      "execution_count": null,
      "outputs": []
    },
    {
      "cell_type": "code",
      "source": [
        "korea=df_merged[df_merged['Country']=='South Korea']\n",
        "korea"
      ],
      "metadata": {
        "id": "woI4zqA3esM9"
      },
      "execution_count": null,
      "outputs": []
    },
    {
      "cell_type": "code",
      "source": [
        "import matplotlib\n",
        "matplotlib.rc_file_defaults()\n",
        "ax1 = sns.set_style(style=None, rc=None )\n",
        "\n",
        "fig, ax1 = plt.subplots(figsize=(12,6))\n",
        "\n",
        "sns.lineplot(data=korea,x=korea['Year'].values,y=korea['Economy (GDP per Capita)'].values,marker='o',sort=False,ax=ax1)\n",
        "ax2=ax1.twinx()\n",
        "sns.barplot(data=korea,x=korea['Year'].values,y=korea['Happiness Rank'].values,alpha=0.5,ax=ax2)\n",
        "# sns.barplot(x = korea['Year'], y = korea['Happiness Rank'], palette = \"viridis\")\n",
        "# sns.lineplot(korea['Year'],korea['Economy (GDP per Capita)'])"
      ],
      "metadata": {
        "id": "b6DuUo3eenJA"
      },
      "execution_count": null,
      "outputs": []
    },
    {
      "cell_type": "markdown",
      "source": [
        "##이제 버블차트를 그려볼것이다."
      ],
      "metadata": {
        "id": "nFcFB9GjT1ds"
      }
    },
    {
      "cell_type": "code",
      "source": [
        "!pip install plotly\n",
        "!pip install bubbly"
      ],
      "metadata": {
        "id": "T6aiNoZ2tfzu"
      },
      "execution_count": null,
      "outputs": []
    },
    {
      "cell_type": "code",
      "source": [
        "gapminder_indicators=pd.read_csv('/content/drive/Shareddrives/elice/gapminder.tsv',sep='\\t')"
      ],
      "metadata": {
        "id": "oAAOS_xbwCcl"
      },
      "execution_count": null,
      "outputs": []
    },
    {
      "cell_type": "code",
      "source": [
        "gapminder_indicators[\"country\"].replace('Congo, Dem. Rep.',\"Congo\",inplace = True)\n",
        "gapminder_indicators[\"country\"].replace(\"Hong Kong, China\",\"Hong Kong\",inplace = True)\n",
        "gapminder_indicators[\"country\"].replace(\"Korea, Dem. Rep.\",\"Korea\",inplace = True)\n",
        "gapminder_indicators[\"country\"].replace(\"Yemen, Rep.\",\"Yemen\",inplace = True)"
      ],
      "metadata": {
        "id": "ywoBUqN45m3R"
      },
      "execution_count": null,
      "outputs": []
    },
    {
      "cell_type": "code",
      "source": [
        "def countryCode (country_name):\n",
        "    try:\n",
        "        return pc.country_name_to_country_alpha2(country_name)\n",
        "    except:\n",
        "        return None                  # None keyword adds a null value 🐹\n",
        "\n",
        "if __name__ == \"__main__\":\n",
        "    gapminder_indicators['Country code']= gapminder_indicators.apply(lambda x: countryCode(x.country), axis = 1)"
      ],
      "metadata": {
        "id": "yh7xphDd4lRD"
      },
      "execution_count": null,
      "outputs": []
    },
    {
      "cell_type": "code",
      "source": [
        "# Adding a column with continent 🌡️\n",
        "def continent(country_code):\n",
        "    try:\n",
        "        return pc.country_alpha2_to_continent_code(country_code)\n",
        "    except:\n",
        "        return None                  # None keyword adds a null value 🐹\n",
        "    \n",
        "if __name__ == \"__main__\":\n",
        "    gapminder_indicators['Continent']= gapminder_indicators[\"Country code\"].apply(lambda x: continent(x))"
      ],
      "metadata": {
        "id": "OMrZOCPd4-F0"
      },
      "execution_count": null,
      "outputs": []
    },
    {
      "cell_type": "code",
      "source": [
        "df_merged.columns"
      ],
      "metadata": {
        "id": "m1zhcCsw8ruV"
      },
      "execution_count": null,
      "outputs": []
    },
    {
      "cell_type": "code",
      "source": [
        "df_merged.rename(columns={'Country':'country','Year':'year','Economy (GDP per Capita)':'gdpPercap','Health (Life Expectancy)':'lifeExp'},inplace=True)"
      ],
      "metadata": {
        "id": "0Huhr7kTElhr"
      },
      "execution_count": null,
      "outputs": []
    },
    {
      "cell_type": "code",
      "source": [
        "df_merged.columns"
      ],
      "metadata": {
        "id": "l5Yf4pHlFzxv"
      },
      "execution_count": null,
      "outputs": []
    },
    {
      "cell_type": "code",
      "source": [
        "def countryCode (country_name):\n",
        "    try:\n",
        "        return pc.country_name_to_country_alpha2(country_name)\n",
        "    except:\n",
        "        return None                  # None keyword adds a null value 🐹\n",
        "\n",
        "if __name__ == \"__main__\":\n",
        "    df_merged['Country code']= df_merged.apply(lambda x: countryCode(x.country), axis = 1)"
      ],
      "metadata": {
        "id": "qBLiJk9l8N2p"
      },
      "execution_count": null,
      "outputs": []
    },
    {
      "cell_type": "code",
      "source": [
        "# Adding a column with continent 🌡️\n",
        "def continent(country_code):\n",
        "    try:\n",
        "        return pc.country_alpha2_to_continent_code(country_code)\n",
        "    except:\n",
        "        return None                  # None keyword adds a null value 🐹\n",
        "    \n",
        "if __name__ == \"__main__\":\n",
        "    df_merged['Continent']= df_merged[\"Country code\"].apply(lambda x: continent(x))"
      ],
      "metadata": {
        "id": "Has3fKKdGVaI"
      },
      "execution_count": null,
      "outputs": []
    },
    {
      "cell_type": "code",
      "source": [
        "# Let's inspect if there are any duplicate values 💣\n",
        "data_info= pd.DataFrame()\n",
        "data_info['Column Names']= df_merged[df_merged['year']=='2021'].columns\n",
        "data_info['Datatype'] = df_merged[df_merged['year']=='2021'].dtypes.to_list()\n",
        "data_info['Duplicate']= data_info['Column Names'].apply(lambda x: df_merged[df_merged['year']=='2021'][x].duplicated().sum())\n",
        "data_info"
      ],
      "metadata": {
        "id": "bmsNkSLBNss4"
      },
      "execution_count": null,
      "outputs": []
    },
    {
      "cell_type": "code",
      "source": [
        "# Data copy 🧲\n",
        "sample2 = df_merged.copy()\n",
        "# Create a column with standard names of countries 🍄\n",
        "def stname(country_name):\n",
        "    try:\n",
        "        return pc.country_name_to_country_alpha3(country_name)\n",
        "    except:\n",
        "        return None                  # None keyword adds a null value 🐹\n",
        "    \n",
        "if __name__ == \"__main__\":\n",
        "    sample2['StNames']= sample2[\"country\"].apply(lambda x: stname(x))"
      ],
      "metadata": {
        "id": "4i0QPzmvILG9"
      },
      "execution_count": null,
      "outputs": []
    },
    {
      "cell_type": "code",
      "source": [
        "# World Map for Happiness Ranking 🦞\n",
        "fig = px.choropleth(sample2, locations = \"StNames\", color = 'Happiness Rank',\n",
        "                    scope = 'world', title = \"Happiness Ranking World Map\", color_continuous_scale= \"viridis\")\n",
        "\n",
        "# A data frame with top 20 values 🌐\n",
        "data = df_merged[df_merged['year']=='2021'].head(20) #다른연도를 보고싶으면 2021을 바꾸세요(2015~2022)\n",
        "\n",
        "# Barplot for top 20 countries Happiness Index\n",
        "plt.figure(figsize=(28,5))\n",
        "plt.title(\"Top 20 Countries on Happiness Ranking\")\n",
        "sns.barplot(x = data[\"country\"], y = data[\"Happiness Score\"], data = data, palette='viridis', edgecolor='black')\n",
        "\n",
        "\n",
        "fig.show()\n",
        "plt.show()"
      ],
      "metadata": {
        "id": "z7tuA3y16XGO"
      },
      "execution_count": null,
      "outputs": []
    },
    {
      "cell_type": "code",
      "source": [
        "from bubbly.bubbly import bubbleplot \n",
        "import plotly.express as px\n",
        "from plotly.offline import iplot\n",
        "figure = bubbleplot(dataset=gapminder_indicators, x_column='gdpPercap', y_column='lifeExp', \n",
        "    bubble_column='country', time_column='year', size_column='pop', color_column='continent', \n",
        "    x_title=\"GDP per Capita\", y_title=\"Life Expectancy\", title='Gapminder Global Indicators',\n",
        "    x_logscale=True, scale_bubble=3, height=650)\n",
        "\n",
        "iplot(figure, config={'scrollzoom': True})"
      ],
      "metadata": {
        "id": "9wQU9eKjlA-f"
      },
      "execution_count": null,
      "outputs": []
    },
    {
      "cell_type": "markdown",
      "source": [
        "버블차트와 맵차트를 비교해보면서 대륙별로 행복도 변화의 이유을 찾아보려고 했으나 데이터셋의 년도가 일치하지 않아 실패ㅠㅠ\n",
        "-> 추후 캐글 데이터뿐만이 아니라 크롤링해서 다른 데이터를 얻어야겠다."
      ],
      "metadata": {
        "id": "M_P4dQ9PUVkd"
      }
    },
    {
      "cell_type": "markdown",
      "source": [
        "#지도위에 내전이 일어난곳을 점으로 찍을것이다."
      ],
      "metadata": {
        "id": "OAFkCLrw2Jdj"
      }
    },
    {
      "cell_type": "code",
      "source": [
        "war=war.replace(0,2021)"
      ],
      "metadata": {
        "id": "1FoKBV7HZfD8"
      },
      "execution_count": null,
      "outputs": []
    },
    {
      "cell_type": "code",
      "source": [
        "war['bin']=war['yearend']-war['yearstart']"
      ],
      "metadata": {
        "id": "yQlck9-iYAGU"
      },
      "execution_count": null,
      "outputs": []
    },
    {
      "cell_type": "code",
      "source": [
        "war.groupby(['yearstart','country']).size().values\n",
        "#모두 1인것을 확인함 중복되지 않는다는 뜻"
      ],
      "metadata": {
        "id": "cmpdSh-V1807"
      },
      "execution_count": null,
      "outputs": []
    },
    {
      "cell_type": "code",
      "source": [
        "concap = pd.read_csv('/content/drive/Shareddrives/elice/concap.csv')\n",
        "concap.head()"
      ],
      "metadata": {
        "id": "rAgUo-B-A_4X"
      },
      "execution_count": null,
      "outputs": []
    },
    {
      "cell_type": "code",
      "source": [
        "data_full = pd.merge(concap[['CountryName', 'CapitalName', 'CapitalLatitude', 'CapitalLongitude']],\\\n",
        "         war,left_on='CountryName',right_on='country')\n",
        "#합쳐서 내전이 일어난 나라의 위도, 경도 표시해주자"
      ],
      "metadata": {
        "id": "fSPjfi9dBK5S"
      },
      "execution_count": null,
      "outputs": []
    },
    {
      "cell_type": "code",
      "source": [
        "data_full=pd.merge(data_full,gapminder_indicators,left_on='CountryName',right_on='country')\n",
        "#gapminder_indicators와도 합쳐서 health, gdp 등을 알 수있는 데이터로 만들어주기\n",
        "data_full.columns"
      ],
      "metadata": {
        "id": "mAddaSyEBfxq"
      },
      "execution_count": null,
      "outputs": []
    },
    {
      "cell_type": "markdown",
      "source": [
        "두 데이터를 merge했지만 시점이 너무 다르다. 정제할 필요가 있음."
      ],
      "metadata": {
        "id": "-jqk1Lg8nY_C"
      }
    },
    {
      "cell_type": "code",
      "source": [
        "print(sorted(data_full['yearstart'].unique())) #내전 시작 년도\n",
        "print(sorted(data_full['yearend'].unique())) #내전 시작 년도\n",
        "print(sorted(data_full['year'].unique()))  #gdp, lifeExp등 다른 지표들있는 년도\n",
        "#겹치는 년도가 1992, 2002, 2007 밖에없음.."
      ],
      "metadata": {
        "id": "GdZl5qIYCelW"
      },
      "execution_count": null,
      "outputs": []
    },
    {
      "cell_type": "code",
      "source": [
        "data_full.index= [i for i in range(0,data_full.shape[0])]"
      ],
      "metadata": {
        "id": "LATNuNoXbjwC"
      },
      "execution_count": null,
      "outputs": []
    },
    {
      "cell_type": "code",
      "source": [
        "data_full.index"
      ],
      "metadata": {
        "id": "32JEZX1DcuAC"
      },
      "execution_count": null,
      "outputs": []
    },
    {
      "cell_type": "code",
      "source": [
        "index=[]\n",
        "for i in range(0,data_full.shape[0]):\n",
        "    print(data_full['year'].values[i])\n",
        "    print(data_full['yearstart'].values[i])\n",
        "    print(data_full['yearend'].values[i])\n",
        "    print(\"=\"*10)\n",
        "    if data_full['year'].values[i] >= data_full['yearstart'].values[i] and data_full['year'].values[i]<=data_full['yearend'].values[i]: continue\n",
        "    else : index.append(i) "
      ],
      "metadata": {
        "id": "G8op6r9AelRP"
      },
      "execution_count": null,
      "outputs": []
    },
    {
      "cell_type": "code",
      "source": [
        "f'제거전 : {data_full.shape[0]} 제거후 : {len(index)}'"
      ],
      "metadata": {
        "id": "IHxzWKL-kyMx"
      },
      "execution_count": null,
      "outputs": []
    },
    {
      "cell_type": "code",
      "source": [
        "data_full.drop(index, inplace=True)\n",
        "data_full.tail()"
      ],
      "metadata": {
        "id": "cT6SZPcJlHFj"
      },
      "execution_count": null,
      "outputs": []
    },
    {
      "cell_type": "markdown",
      "source": [
        "전처리 완료 이제 시점이 겹치는 데이터들만 남게되었다."
      ],
      "metadata": {
        "id": "2CZjWlFan_nk"
      }
    },
    {
      "cell_type": "code",
      "source": [
        "data_full['year'].unique()"
      ],
      "metadata": {
        "id": "W1zbWDVqn-3f"
      },
      "execution_count": null,
      "outputs": []
    },
    {
      "cell_type": "code",
      "source": [
        "import plotly.graph_objects as go\n",
        "data_full[data_full['year']==2002]['gdpPercap'] = data_full[data_full['year']==2002]['gdpPercap'].apply(lambda x: int(100*x))\n",
        "data_full[data_full['year']==2002]['bin'] = data_full[data_full['year']==2002]['bin'].apply(lambda x: int(x))\n",
        "fig = go.Figure()\n",
        "\n",
        "fig.add_trace(go.Scattergeo(\n",
        "                         lat = data_full[data_full['year']==2002]['CapitalLatitude'],\n",
        "                     lon = data_full[data_full['year']==2002]['CapitalLongitude'],\n",
        "                     text = data_full[data_full['year']==2002]['CountryName'],\n",
        "#                     mode=\"markers+text\",|\n",
        "                     marker={\n",
        "                        \"color\": data_full[data_full['year']==2002]['gdpPercap'],\n",
        "                        \"line\": {\"width\": 1},\n",
        "                 \"size\": data_full[data_full['year']==2002]['bin']}\n",
        "                           ))\n",
        "\n",
        "fig.update_layout(\n",
        "    title_text=\"World wars\"\n",
        ")\n",
        "\n",
        "fig.show()"
      ],
      "metadata": {
        "id": "BbnLXmt-BZV9"
      },
      "execution_count": null,
      "outputs": []
    },
    {
      "cell_type": "code",
      "source": [
        "# Data copy 🧲\n",
        "sample3 = gapminder_indicators.copy()\n",
        "# Create a column with standard names of countries 🍄\n",
        "def stname(country_name):\n",
        "    try:\n",
        "        return pc.country_name_to_country_alpha3(country_name)\n",
        "    except:\n",
        "        return None                  # None keyword adds a null value 🐹\n",
        "    \n",
        "if __name__ == \"__main__\":\n",
        "    sample3['StNames']= sample3[\"country\"].apply(lambda x: stname(x))"
      ],
      "metadata": {
        "id": "zqJSH42nGBPb"
      },
      "execution_count": null,
      "outputs": []
    },
    {
      "cell_type": "code",
      "source": [
        "## 오피스아워 코드 디버깅\n",
        "import plotly.express as px\n",
        "import plotly.graph_objects as go\n",
        "\n",
        "\n",
        "# World Map for Happiness Ranking 🦞\n",
        "fig = px.choropleth(sample3, locations = \"StNames\", color = 'gdpPercap',\n",
        "                    scope = 'world', title = \"Happiness Ranking World Map\", color_continuous_scale= \"viridis\") #fig변수에 그래프저장\n",
        "\n",
        "# A data frame with top 20 values 🌐\n",
        "data = gapminder_indicators[gapminder_indicators['year']==2002].head(20) #다른 시점을 보고싶다면 년도를 바꿔주세요! 1997, 2002, 1992, 2007\n",
        "\n",
        "# Barplot for top 20 countries Happiness Index\n",
        "plt.figure(figsize=(28,5))\n",
        "plt.title(\"Top 20 Countries on Happiness Ranking\")\n",
        "sns.barplot(x = data[\"country\"], y = data[\"lifeExp\"], data = data, palette='viridis', edgecolor='black')\n",
        "\n",
        "import plotly.graph_objects as go\n",
        "data_full[data_full['year']==2002]['bin'] = data_full[data_full['year']==2002]['bin'].apply(lambda x: int(x))\n",
        "# fig = go.Figure() #fig로 재정의 -> 빈그래프 객체가된다.\n",
        "\n",
        "fig.add_trace(go.Scattergeo( #->빈그래프에 scatter 넣은것임\n",
        "                         lat = data_full[data_full['year']==2002]['CapitalLatitude'],\n",
        "                     lon = data_full[data_full['year']==2002]['CapitalLongitude'],\n",
        "                     text = data_full[data_full['year']==2002]['CountryName'],\n",
        "#                     mode=\"markers+text\",|\n",
        "                     marker={\n",
        "                        \"line\": {\"width\": 1},\n",
        "                 \"size\": data_full[data_full['year']==2002]['bin']}\n",
        "                           ))\n",
        "\n",
        "fig.update_layout(\n",
        "    title_text=\"World wars\"\n",
        ")\n",
        "fig.show()\n",
        "plt.show()"
      ],
      "metadata": {
        "id": "PELdnmVVn2Xp"
      },
      "execution_count": null,
      "outputs": []
    }
  ]
}